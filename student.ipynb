{
 "cells": [
  {
   "cell_type": "markdown",
   "metadata": {},
   "source": [
    "## Final Project Submission\n",
    "\n",
    "Please fill out:\n",
    "* Student name: Irene Ngina Kibengo\n",
    "* Student pace: self paced / part time / full time\n",
    "* Scheduled project review date/time: \n",
    "* Instructor name: Mwikali\n",
    "* Blog post URL:\n"
   ]
  },
  {
   "cell_type": "markdown",
   "metadata": {},
   "source": [
    "# Identifying Low-Risk Aircraft Models For New Aviation Ventures\n",
    "\n",
    "# 1. Business Understanding\n",
    "\n",
    "This project is designed to support aviation entrepreneurs and startups by offering a data-driven analysis of historical aircraft accident data to identify aircraft types associated with lower safety risks. By uncovering patterns and trends in past incidents, the project provides valuable insights that can guide strategic fleet selection. These insights enable stakeholders to make informed decisions that prioritize operational safety, minimize potential liabilities, and support the successful launch and growth of aviation ventures.\n",
    "\n",
    "## Stakeholders\n",
    "\n",
    "The primary stakeholder for this project is the head of aviation division, who is responsible for overseeing fleet decisions, operational safety, and long-term strategic planning. This project provides data-driven insights that support informed decision-making around aircraft selection, helping minimize operational risk and ensure compliance with safety standards. By identifying aircraft models with lower historical accident rates, the project aims to enhance fleet safety while reducing the financial and reputational risks associated with high-risk aircraft.\n",
    "\n",
    "## Conclusion: Implications\n",
    "\n",
    "This project highlights how historical aviation accident data can be leveraged to generate actionable insights that inform aviation business strategy. By identifying aircraft models associated with lower incident rates, the analysis supports more informed and safety-conscious fleet selection. These insights not only enhance passenger safety but also promote long-term financial sustainability by helping aviation startups avoid high-risk investments.\n"
   ]
  },
  {
   "cell_type": "markdown",
   "metadata": {},
   "source": [
    "# 2. Data Understanding\n",
    "\n"
   ]
  },
  {
   "cell_type": "markdown",
   "metadata": {},
   "source": [
    "## Data Source \n",
    "\n",
    "The dataset used in this project comes from the Aviation Accident Database (Synopses) on Kaggle, which is compiled from official U.S. National Transportation Safety Board (NTSB) accident reports. It contains essential information including the date and location of each incident, aircraft make and model, type of operation (e.g., commercial or private), number of fatalities and injuries, and a brief narrative summarizing the circumstances of the event.\n",
    "\n",
    "This data is critical for uncovering safety-related patterns—such as which aircraft models are more commonly involved in accidents, which operational contexts carry higher risk, and the most frequent contributing factors. These insights directly support the project’s objective of assessing relative safety risks across various aircraft types.\n",
    "\n",
    "An initial data exploration phase will focus on evaluating data quality, detecting missing or inconsistent entries, and analyzing the distribution of key variables. Establishing a strong understanding of the dataset at this stage is essential to ensure that the analysis remains accurate, meaningful, and aligned with the broader goal of recommending low-risk aircraft models for strategic fleet selection.\n",
    "\n",
    "## Requirements\r\n",
    "\r\n",
    "#### 1. Key Fields\r\n",
    "* Aircraft make and model\r\n",
    "* Date and location of incidtion \r\n",
    "* Number of fatalities and injuries\r\n",
    "* Accident synopsis and summary\r\n",
    "\r\n",
    "### 2. Exploratory Data Analysis(EDA)\r\n",
    "* Identify patterns in accident frequency by aircraft model\r\n",
    "* Determine which types of operations (commercial vs private) have higher risks\r\n",
    "* Analyze accident severity by type\r\n",
    "\r\n",
    "### 3. Data Cleaning \r\n",
    "* Handle missing and inconsistent values\n",
    "\n",
    "\n",
    "\n",
    "\n",
    "\n"
   ]
  },
  {
   "cell_type": "markdown",
   "metadata": {},
   "source": [
    "## Load the Dataset"
   ]
  },
  {
   "cell_type": "markdown",
   "metadata": {},
   "source": [
    "Before we load our dataset we import the below libraries. the Import warnings will tell python to supress all warnings messages."
   ]
  },
  {
   "cell_type": "code",
   "execution_count": 70,
   "metadata": {},
   "outputs": [],
   "source": [
    "# Importing necessary libraries \n",
    "import pandas as pd \n",
    "import matplotlib.pyplot as plt\n",
    "import seaborn as sns\n",
    "import warnings\n",
    "warnings.filterwarnings('ignore')\n"
   ]
  },
  {
   "cell_type": "markdown",
   "metadata": {},
   "source": [
    "Next step is to load the dataset in a pandas dataframe using read_csv method and display the first few rows."
   ]
  },
  {
   "cell_type": "code",
   "execution_count": 88,
   "metadata": {},
   "outputs": [
    {
     "data": {
      "text/html": [
       "<div>\n",
       "<style scoped>\n",
       "    .dataframe tbody tr th:only-of-type {\n",
       "        vertical-align: middle;\n",
       "    }\n",
       "\n",
       "    .dataframe tbody tr th {\n",
       "        vertical-align: top;\n",
       "    }\n",
       "\n",
       "    .dataframe thead th {\n",
       "        text-align: right;\n",
       "    }\n",
       "</style>\n",
       "<table border=\"1\" class=\"dataframe\">\n",
       "  <thead>\n",
       "    <tr style=\"text-align: right;\">\n",
       "      <th></th>\n",
       "      <th>Event.Id</th>\n",
       "      <th>Investigation.Type</th>\n",
       "      <th>Accident.Number</th>\n",
       "      <th>Event.Date</th>\n",
       "      <th>Location</th>\n",
       "      <th>Country</th>\n",
       "      <th>Latitude</th>\n",
       "      <th>Longitude</th>\n",
       "      <th>Airport.Code</th>\n",
       "      <th>Airport.Name</th>\n",
       "      <th>...</th>\n",
       "      <th>Purpose.of.flight</th>\n",
       "      <th>Air.carrier</th>\n",
       "      <th>Total.Fatal.Injuries</th>\n",
       "      <th>Total.Serious.Injuries</th>\n",
       "      <th>Total.Minor.Injuries</th>\n",
       "      <th>Total.Uninjured</th>\n",
       "      <th>Weather.Condition</th>\n",
       "      <th>Broad.phase.of.flight</th>\n",
       "      <th>Report.Status</th>\n",
       "      <th>Publication.Date</th>\n",
       "    </tr>\n",
       "  </thead>\n",
       "  <tbody>\n",
       "    <tr>\n",
       "      <th>0</th>\n",
       "      <td>20001218X45444</td>\n",
       "      <td>Accident</td>\n",
       "      <td>SEA87LA080</td>\n",
       "      <td>1948-10-24</td>\n",
       "      <td>MOOSE CREEK, ID</td>\n",
       "      <td>United States</td>\n",
       "      <td>NaN</td>\n",
       "      <td>NaN</td>\n",
       "      <td>NaN</td>\n",
       "      <td>NaN</td>\n",
       "      <td>...</td>\n",
       "      <td>Personal</td>\n",
       "      <td>NaN</td>\n",
       "      <td>2.0</td>\n",
       "      <td>0.0</td>\n",
       "      <td>0.0</td>\n",
       "      <td>0.0</td>\n",
       "      <td>UNK</td>\n",
       "      <td>Cruise</td>\n",
       "      <td>Probable Cause</td>\n",
       "      <td>NaN</td>\n",
       "    </tr>\n",
       "    <tr>\n",
       "      <th>1</th>\n",
       "      <td>20001218X45447</td>\n",
       "      <td>Accident</td>\n",
       "      <td>LAX94LA336</td>\n",
       "      <td>1962-07-19</td>\n",
       "      <td>BRIDGEPORT, CA</td>\n",
       "      <td>United States</td>\n",
       "      <td>NaN</td>\n",
       "      <td>NaN</td>\n",
       "      <td>NaN</td>\n",
       "      <td>NaN</td>\n",
       "      <td>...</td>\n",
       "      <td>Personal</td>\n",
       "      <td>NaN</td>\n",
       "      <td>4.0</td>\n",
       "      <td>0.0</td>\n",
       "      <td>0.0</td>\n",
       "      <td>0.0</td>\n",
       "      <td>UNK</td>\n",
       "      <td>Unknown</td>\n",
       "      <td>Probable Cause</td>\n",
       "      <td>19-09-1996</td>\n",
       "    </tr>\n",
       "    <tr>\n",
       "      <th>2</th>\n",
       "      <td>20061025X01555</td>\n",
       "      <td>Accident</td>\n",
       "      <td>NYC07LA005</td>\n",
       "      <td>1974-08-30</td>\n",
       "      <td>Saltville, VA</td>\n",
       "      <td>United States</td>\n",
       "      <td>36.922223</td>\n",
       "      <td>-81.878056</td>\n",
       "      <td>NaN</td>\n",
       "      <td>NaN</td>\n",
       "      <td>...</td>\n",
       "      <td>Personal</td>\n",
       "      <td>NaN</td>\n",
       "      <td>3.0</td>\n",
       "      <td>NaN</td>\n",
       "      <td>NaN</td>\n",
       "      <td>NaN</td>\n",
       "      <td>IMC</td>\n",
       "      <td>Cruise</td>\n",
       "      <td>Probable Cause</td>\n",
       "      <td>26-02-2007</td>\n",
       "    </tr>\n",
       "    <tr>\n",
       "      <th>3</th>\n",
       "      <td>20001218X45448</td>\n",
       "      <td>Accident</td>\n",
       "      <td>LAX96LA321</td>\n",
       "      <td>1977-06-19</td>\n",
       "      <td>EUREKA, CA</td>\n",
       "      <td>United States</td>\n",
       "      <td>NaN</td>\n",
       "      <td>NaN</td>\n",
       "      <td>NaN</td>\n",
       "      <td>NaN</td>\n",
       "      <td>...</td>\n",
       "      <td>Personal</td>\n",
       "      <td>NaN</td>\n",
       "      <td>2.0</td>\n",
       "      <td>0.0</td>\n",
       "      <td>0.0</td>\n",
       "      <td>0.0</td>\n",
       "      <td>IMC</td>\n",
       "      <td>Cruise</td>\n",
       "      <td>Probable Cause</td>\n",
       "      <td>12-09-2000</td>\n",
       "    </tr>\n",
       "    <tr>\n",
       "      <th>4</th>\n",
       "      <td>20041105X01764</td>\n",
       "      <td>Accident</td>\n",
       "      <td>CHI79FA064</td>\n",
       "      <td>1979-08-02</td>\n",
       "      <td>Canton, OH</td>\n",
       "      <td>United States</td>\n",
       "      <td>NaN</td>\n",
       "      <td>NaN</td>\n",
       "      <td>NaN</td>\n",
       "      <td>NaN</td>\n",
       "      <td>...</td>\n",
       "      <td>Personal</td>\n",
       "      <td>NaN</td>\n",
       "      <td>1.0</td>\n",
       "      <td>2.0</td>\n",
       "      <td>NaN</td>\n",
       "      <td>0.0</td>\n",
       "      <td>VMC</td>\n",
       "      <td>Approach</td>\n",
       "      <td>Probable Cause</td>\n",
       "      <td>16-04-1980</td>\n",
       "    </tr>\n",
       "  </tbody>\n",
       "</table>\n",
       "<p>5 rows × 31 columns</p>\n",
       "</div>"
      ],
      "text/plain": [
       "         Event.Id Investigation.Type Accident.Number  Event.Date  \\\n",
       "0  20001218X45444           Accident      SEA87LA080  1948-10-24   \n",
       "1  20001218X45447           Accident      LAX94LA336  1962-07-19   \n",
       "2  20061025X01555           Accident      NYC07LA005  1974-08-30   \n",
       "3  20001218X45448           Accident      LAX96LA321  1977-06-19   \n",
       "4  20041105X01764           Accident      CHI79FA064  1979-08-02   \n",
       "\n",
       "          Location        Country   Latitude  Longitude Airport.Code  \\\n",
       "0  MOOSE CREEK, ID  United States        NaN        NaN          NaN   \n",
       "1   BRIDGEPORT, CA  United States        NaN        NaN          NaN   \n",
       "2    Saltville, VA  United States  36.922223 -81.878056          NaN   \n",
       "3       EUREKA, CA  United States        NaN        NaN          NaN   \n",
       "4       Canton, OH  United States        NaN        NaN          NaN   \n",
       "\n",
       "  Airport.Name  ... Purpose.of.flight Air.carrier Total.Fatal.Injuries  \\\n",
       "0          NaN  ...          Personal         NaN                  2.0   \n",
       "1          NaN  ...          Personal         NaN                  4.0   \n",
       "2          NaN  ...          Personal         NaN                  3.0   \n",
       "3          NaN  ...          Personal         NaN                  2.0   \n",
       "4          NaN  ...          Personal         NaN                  1.0   \n",
       "\n",
       "  Total.Serious.Injuries Total.Minor.Injuries Total.Uninjured  \\\n",
       "0                    0.0                  0.0             0.0   \n",
       "1                    0.0                  0.0             0.0   \n",
       "2                    NaN                  NaN             NaN   \n",
       "3                    0.0                  0.0             0.0   \n",
       "4                    2.0                  NaN             0.0   \n",
       "\n",
       "  Weather.Condition  Broad.phase.of.flight   Report.Status Publication.Date  \n",
       "0               UNK                 Cruise  Probable Cause              NaN  \n",
       "1               UNK                Unknown  Probable Cause       19-09-1996  \n",
       "2               IMC                 Cruise  Probable Cause       26-02-2007  \n",
       "3               IMC                 Cruise  Probable Cause       12-09-2000  \n",
       "4               VMC               Approach  Probable Cause       16-04-1980  \n",
       "\n",
       "[5 rows x 31 columns]"
      ]
     },
     "execution_count": 88,
     "metadata": {},
     "output_type": "execute_result"
    }
   ],
   "source": [
    "# Loading the dataset\n",
    "df= pd.read_csv('data/Aviation_Data.csv')\n",
    "\n",
    "# Shows the first few rows \n",
    "df.head()\n"
   ]
  },
  {
   "cell_type": "markdown",
   "metadata": {},
   "source": [
    "The Aviation accident dataset contains historical records of aircraft incidents compiled from NTSB reports. This dataset will serve as the basis for identifying aircraft models associated with lower safety risk."
   ]
  },
  {
   "cell_type": "markdown",
   "metadata": {},
   "source": [
    "## Dataset Overview"
   ]
  },
  {
   "cell_type": "code",
   "execution_count": 74,
   "metadata": {},
   "outputs": [
    {
     "data": {
      "text/plain": [
       "(90348, 31)"
      ]
     },
     "execution_count": 74,
     "metadata": {},
     "output_type": "execute_result"
    }
   ],
   "source": [
    "# Dataset shape and summary\n",
    "df.shape\n"
   ]
  },
  {
   "cell_type": "markdown",
   "metadata": {},
   "source": [
    "The dataset has 90348 rows and 31 columns."
   ]
  },
  {
   "cell_type": "code",
   "execution_count": 76,
   "metadata": {},
   "outputs": [
    {
     "name": "stdout",
     "output_type": "stream",
     "text": [
      "<class 'pandas.core.frame.DataFrame'>\n",
      "RangeIndex: 90348 entries, 0 to 90347\n",
      "Data columns (total 31 columns):\n",
      " #   Column                  Non-Null Count  Dtype  \n",
      "---  ------                  --------------  -----  \n",
      " 0   Event.Id                88889 non-null  object \n",
      " 1   Investigation.Type      90348 non-null  object \n",
      " 2   Accident.Number         88889 non-null  object \n",
      " 3   Event.Date              88889 non-null  object \n",
      " 4   Location                88837 non-null  object \n",
      " 5   Country                 88663 non-null  object \n",
      " 6   Latitude                34382 non-null  object \n",
      " 7   Longitude               34373 non-null  object \n",
      " 8   Airport.Code            50132 non-null  object \n",
      " 9   Airport.Name            52704 non-null  object \n",
      " 10  Injury.Severity         87889 non-null  object \n",
      " 11  Aircraft.damage         85695 non-null  object \n",
      " 12  Aircraft.Category       32287 non-null  object \n",
      " 13  Registration.Number     87507 non-null  object \n",
      " 14  Make                    88826 non-null  object \n",
      " 15  Model                   88797 non-null  object \n",
      " 16  Amateur.Built           88787 non-null  object \n",
      " 17  Number.of.Engines       82805 non-null  float64\n",
      " 18  Engine.Type             81793 non-null  object \n",
      " 19  FAR.Description         32023 non-null  object \n",
      " 20  Schedule                12582 non-null  object \n",
      " 21  Purpose.of.flight       82697 non-null  object \n",
      " 22  Air.carrier             16648 non-null  object \n",
      " 23  Total.Fatal.Injuries    77488 non-null  float64\n",
      " 24  Total.Serious.Injuries  76379 non-null  float64\n",
      " 25  Total.Minor.Injuries    76956 non-null  float64\n",
      " 26  Total.Uninjured         82977 non-null  float64\n",
      " 27  Weather.Condition       84397 non-null  object \n",
      " 28  Broad.phase.of.flight   61724 non-null  object \n",
      " 29  Report.Status           82505 non-null  object \n",
      " 30  Publication.Date        73659 non-null  object \n",
      "dtypes: float64(5), object(26)\n",
      "memory usage: 21.4+ MB\n"
     ]
    }
   ],
   "source": [
    "# Dataset summary \n",
    "df.info()"
   ]
  },
  {
   "cell_type": "markdown",
   "metadata": {},
   "source": [
    "The .info() method provides a concise summary of the DataFrame. In this aviation dataset, there are 90,348 rows and 31 columns. Among these, 5 columns are of float data type, while the remaining 26 columns are of object data type, typically representing strings or mixed data."
   ]
  },
  {
   "cell_type": "code",
   "execution_count": 78,
   "metadata": {},
   "outputs": [
    {
     "data": {
      "text/html": [
       "<div>\n",
       "<style scoped>\n",
       "    .dataframe tbody tr th:only-of-type {\n",
       "        vertical-align: middle;\n",
       "    }\n",
       "\n",
       "    .dataframe tbody tr th {\n",
       "        vertical-align: top;\n",
       "    }\n",
       "\n",
       "    .dataframe thead th {\n",
       "        text-align: right;\n",
       "    }\n",
       "</style>\n",
       "<table border=\"1\" class=\"dataframe\">\n",
       "  <thead>\n",
       "    <tr style=\"text-align: right;\">\n",
       "      <th></th>\n",
       "      <th>Number.of.Engines</th>\n",
       "      <th>Total.Fatal.Injuries</th>\n",
       "      <th>Total.Serious.Injuries</th>\n",
       "      <th>Total.Minor.Injuries</th>\n",
       "      <th>Total.Uninjured</th>\n",
       "    </tr>\n",
       "  </thead>\n",
       "  <tbody>\n",
       "    <tr>\n",
       "      <th>count</th>\n",
       "      <td>82805.000000</td>\n",
       "      <td>77488.000000</td>\n",
       "      <td>76379.000000</td>\n",
       "      <td>76956.000000</td>\n",
       "      <td>82977.000000</td>\n",
       "    </tr>\n",
       "    <tr>\n",
       "      <th>mean</th>\n",
       "      <td>1.146585</td>\n",
       "      <td>0.647855</td>\n",
       "      <td>0.279881</td>\n",
       "      <td>0.357061</td>\n",
       "      <td>5.325440</td>\n",
       "    </tr>\n",
       "    <tr>\n",
       "      <th>std</th>\n",
       "      <td>0.446510</td>\n",
       "      <td>5.485960</td>\n",
       "      <td>1.544084</td>\n",
       "      <td>2.235625</td>\n",
       "      <td>27.913634</td>\n",
       "    </tr>\n",
       "    <tr>\n",
       "      <th>min</th>\n",
       "      <td>0.000000</td>\n",
       "      <td>0.000000</td>\n",
       "      <td>0.000000</td>\n",
       "      <td>0.000000</td>\n",
       "      <td>0.000000</td>\n",
       "    </tr>\n",
       "    <tr>\n",
       "      <th>25%</th>\n",
       "      <td>1.000000</td>\n",
       "      <td>0.000000</td>\n",
       "      <td>0.000000</td>\n",
       "      <td>0.000000</td>\n",
       "      <td>0.000000</td>\n",
       "    </tr>\n",
       "    <tr>\n",
       "      <th>50%</th>\n",
       "      <td>1.000000</td>\n",
       "      <td>0.000000</td>\n",
       "      <td>0.000000</td>\n",
       "      <td>0.000000</td>\n",
       "      <td>1.000000</td>\n",
       "    </tr>\n",
       "    <tr>\n",
       "      <th>75%</th>\n",
       "      <td>1.000000</td>\n",
       "      <td>0.000000</td>\n",
       "      <td>0.000000</td>\n",
       "      <td>0.000000</td>\n",
       "      <td>2.000000</td>\n",
       "    </tr>\n",
       "    <tr>\n",
       "      <th>max</th>\n",
       "      <td>8.000000</td>\n",
       "      <td>349.000000</td>\n",
       "      <td>161.000000</td>\n",
       "      <td>380.000000</td>\n",
       "      <td>699.000000</td>\n",
       "    </tr>\n",
       "  </tbody>\n",
       "</table>\n",
       "</div>"
      ],
      "text/plain": [
       "       Number.of.Engines  Total.Fatal.Injuries  Total.Serious.Injuries  \\\n",
       "count       82805.000000          77488.000000            76379.000000   \n",
       "mean            1.146585              0.647855                0.279881   \n",
       "std             0.446510              5.485960                1.544084   \n",
       "min             0.000000              0.000000                0.000000   \n",
       "25%             1.000000              0.000000                0.000000   \n",
       "50%             1.000000              0.000000                0.000000   \n",
       "75%             1.000000              0.000000                0.000000   \n",
       "max             8.000000            349.000000              161.000000   \n",
       "\n",
       "       Total.Minor.Injuries  Total.Uninjured  \n",
       "count          76956.000000     82977.000000  \n",
       "mean               0.357061         5.325440  \n",
       "std                2.235625        27.913634  \n",
       "min                0.000000         0.000000  \n",
       "25%                0.000000         0.000000  \n",
       "50%                0.000000         1.000000  \n",
       "75%                0.000000         2.000000  \n",
       "max              380.000000       699.000000  "
      ]
     },
     "execution_count": 78,
     "metadata": {},
     "output_type": "execute_result"
    }
   ],
   "source": [
    "# Summary statistics for numerical column\n",
    "\n",
    "df.describe()"
   ]
  },
  {
   "cell_type": "markdown",
   "metadata": {},
   "source": [
    "The summary statistics offer valuable insights into key variables such as the number of engines, fatal injuries, serious injuries, minor injuries, and the total number of uninjured individuals. On average, each incident involved approximately 0.65 fatal injuries, 0.36 minor injuries, and 0.28 serious injuries, while about 5.33 individuals remained uninjured per case. These averages indicate that most incidents did not result in any injuries, as the mean values for fatalities and injuries are all below one. This suggests that while some incidents were severe, the majority involved no injuries at all. However, the relatively high average of uninjured individuals points to a consistent presence of survivors or unaffected individuals in each incident.\n"
   ]
  },
  {
   "cell_type": "code",
   "execution_count": 80,
   "metadata": {},
   "outputs": [
    {
     "data": {
      "text/plain": [
       "Event.Id                   1459\n",
       "Investigation.Type            0\n",
       "Accident.Number            1459\n",
       "Event.Date                 1459\n",
       "Location                   1511\n",
       "Country                    1685\n",
       "Latitude                  55966\n",
       "Longitude                 55975\n",
       "Airport.Code              40216\n",
       "Airport.Name              37644\n",
       "Injury.Severity            2459\n",
       "Aircraft.damage            4653\n",
       "Aircraft.Category         58061\n",
       "Registration.Number        2841\n",
       "Make                       1522\n",
       "Model                      1551\n",
       "Amateur.Built              1561\n",
       "Number.of.Engines          7543\n",
       "Engine.Type                8555\n",
       "FAR.Description           58325\n",
       "Schedule                  77766\n",
       "Purpose.of.flight          7651\n",
       "Air.carrier               73700\n",
       "Total.Fatal.Injuries      12860\n",
       "Total.Serious.Injuries    13969\n",
       "Total.Minor.Injuries      13392\n",
       "Total.Uninjured            7371\n",
       "Weather.Condition          5951\n",
       "Broad.phase.of.flight     28624\n",
       "Report.Status              7843\n",
       "Publication.Date          16689\n",
       "dtype: int64"
      ]
     },
     "execution_count": 80,
     "metadata": {},
     "output_type": "execute_result"
    }
   ],
   "source": [
    "# finding missing values \n",
    "df.isnull().sum()"
   ]
  },
  {
   "cell_type": "markdown",
   "metadata": {},
   "source": [
    "The .isnull().sum() method helps detect missing data by returning the count of null (or missing) values in each column of the aviation dataset. Event Id, Event date and Accident number have no missing values. Location is missing 1511 entries, Latitude and longitude have a high number of missing values. This indicates that geographical data is largely incomplete. Injury related fields like Total.Fatal.Injuries, Total.Serious.Injuries, and Total.Minor.Injuries have thousands of missing entries—this may reflect cases where injury details were not recorded or not applicable. Columns such as Schedule, Air.carrier, and FAR.Description are missing in over 70,000 records, which might significantly impact analysis involving those fields.\n"
   ]
  },
  {
   "cell_type": "code",
   "execution_count": 46,
   "metadata": {},
   "outputs": [
    {
     "data": {
      "text/plain": [
       "0                           Stinson\n",
       "1                             Piper\n",
       "2                            Cessna\n",
       "3                          Rockwell\n",
       "4                            Cessna\n",
       "                    ...            \n",
       "90343                         PIPER\n",
       "90344                      BELLANCA\n",
       "90345    AMERICAN CHAMPION AIRCRAFT\n",
       "90346                        CESSNA\n",
       "90347                         PIPER\n",
       "Name: Make, Length: 90348, dtype: object"
      ]
     },
     "execution_count": 46,
     "metadata": {},
     "output_type": "execute_result"
    }
   ],
   "source": [
    "# Check for unique values in key categorical columns\n",
    "df['Make'].value_counts().head(10)\n",
    "df['Make']"
   ]
  },
  {
   "cell_type": "code",
   "execution_count": 82,
   "metadata": {},
   "outputs": [
    {
     "name": "stdout",
     "output_type": "stream",
     "text": [
      "Date range of accident data:\n",
      "From 1948-10-24 to 2022-12-29\n"
     ]
    }
   ],
   "source": [
    "# Check distribution of accident data\n",
    "#Remove leading/trailing spaces from column names\n",
    "df.columns = df.columns.str.strip()\n",
    "#Convert the 'Event.Date' column to datetime format\n",
    "df['Event.Date'] = pd.to_datetime(df['Event.Date'], errors='coerce')\n",
    "# Check the date range\n",
    "print(\"Date range of accident data:\")\n",
    "print(f\"From {df['Event.Date'].min().date()} to {df['Event.Date'].max().date()}\")\n"
   ]
  },
  {
   "cell_type": "markdown",
   "metadata": {},
   "source": [
    " # Data Cleaning\n",
    " "
   ]
  },
  {
   "cell_type": "markdown",
   "metadata": {},
   "source": [
    "Dropping columns with missing values like location which has 1511 missing values . The location column will not be used in this analysis.\n"
   ]
  },
  {
   "cell_type": "code",
   "execution_count": 90,
   "metadata": {},
   "outputs": [],
   "source": [
    "df.drop(columns=['Location'], inplace=True)"
   ]
  },
  {
   "cell_type": "markdown",
   "metadata": {},
   "source": [
    " Next we will impute the injury related fields i.e the Total.Fatal.Injuries, Total.Serious.Injuries, and Total.Minor.Injuries."
   ]
  },
  {
   "cell_type": "code",
   "execution_count": 95,
   "metadata": {},
   "outputs": [
    {
     "data": {
      "text/html": [
       "<div>\n",
       "<style scoped>\n",
       "    .dataframe tbody tr th:only-of-type {\n",
       "        vertical-align: middle;\n",
       "    }\n",
       "\n",
       "    .dataframe tbody tr th {\n",
       "        vertical-align: top;\n",
       "    }\n",
       "\n",
       "    .dataframe thead th {\n",
       "        text-align: right;\n",
       "    }\n",
       "</style>\n",
       "<table border=\"1\" class=\"dataframe\">\n",
       "  <thead>\n",
       "    <tr style=\"text-align: right;\">\n",
       "      <th></th>\n",
       "      <th>Total.Fatal.Injuries</th>\n",
       "      <th>Total.Serious.Injuries</th>\n",
       "      <th>Total.Minor.Injuries</th>\n",
       "    </tr>\n",
       "  </thead>\n",
       "  <tbody>\n",
       "    <tr>\n",
       "      <th>0</th>\n",
       "      <td>2</td>\n",
       "      <td>0</td>\n",
       "      <td>0</td>\n",
       "    </tr>\n",
       "    <tr>\n",
       "      <th>1</th>\n",
       "      <td>4</td>\n",
       "      <td>0</td>\n",
       "      <td>0</td>\n",
       "    </tr>\n",
       "    <tr>\n",
       "      <th>2</th>\n",
       "      <td>3</td>\n",
       "      <td>0</td>\n",
       "      <td>0</td>\n",
       "    </tr>\n",
       "    <tr>\n",
       "      <th>3</th>\n",
       "      <td>2</td>\n",
       "      <td>0</td>\n",
       "      <td>0</td>\n",
       "    </tr>\n",
       "    <tr>\n",
       "      <th>4</th>\n",
       "      <td>1</td>\n",
       "      <td>2</td>\n",
       "      <td>0</td>\n",
       "    </tr>\n",
       "    <tr>\n",
       "      <th>...</th>\n",
       "      <td>...</td>\n",
       "      <td>...</td>\n",
       "      <td>...</td>\n",
       "    </tr>\n",
       "    <tr>\n",
       "      <th>90343</th>\n",
       "      <td>0</td>\n",
       "      <td>1</td>\n",
       "      <td>0</td>\n",
       "    </tr>\n",
       "    <tr>\n",
       "      <th>90344</th>\n",
       "      <td>0</td>\n",
       "      <td>0</td>\n",
       "      <td>0</td>\n",
       "    </tr>\n",
       "    <tr>\n",
       "      <th>90345</th>\n",
       "      <td>0</td>\n",
       "      <td>0</td>\n",
       "      <td>0</td>\n",
       "    </tr>\n",
       "    <tr>\n",
       "      <th>90346</th>\n",
       "      <td>0</td>\n",
       "      <td>0</td>\n",
       "      <td>0</td>\n",
       "    </tr>\n",
       "    <tr>\n",
       "      <th>90347</th>\n",
       "      <td>0</td>\n",
       "      <td>1</td>\n",
       "      <td>0</td>\n",
       "    </tr>\n",
       "  </tbody>\n",
       "</table>\n",
       "<p>90348 rows × 3 columns</p>\n",
       "</div>"
      ],
      "text/plain": [
       "       Total.Fatal.Injuries  Total.Serious.Injuries  Total.Minor.Injuries\n",
       "0                         2                       0                     0\n",
       "1                         4                       0                     0\n",
       "2                         3                       0                     0\n",
       "3                         2                       0                     0\n",
       "4                         1                       2                     0\n",
       "...                     ...                     ...                   ...\n",
       "90343                     0                       1                     0\n",
       "90344                     0                       0                     0\n",
       "90345                     0                       0                     0\n",
       "90346                     0                       0                     0\n",
       "90347                     0                       1                     0\n",
       "\n",
       "[90348 rows x 3 columns]"
      ]
     },
     "execution_count": 95,
     "metadata": {},
     "output_type": "execute_result"
    }
   ],
   "source": [
    "# List of injury-related fields\n",
    "injury_cols = ['Total.Fatal.Injuries', 'Total.Serious.Injuries', 'Total.Minor.Injuries']\n",
    "\n",
    "# Fill missing injury data with 0 (indicating no injuries or not applicable)\n",
    "df[injury_cols] = df[injury_cols].fillna(0)\n",
    "\n",
    "# Optional: Convert injury columns to integers (if they were float initially)\n",
    "df[injury_cols] = df[injury_cols].astype(int)\n",
    "\n",
    "df[injury_cols]"
   ]
  },
  {
   "cell_type": "markdown",
   "metadata": {},
   "source": [
    "## Top 10 Aircrafts Makes by Accident Frequency"
   ]
  },
  {
   "cell_type": "code",
   "execution_count": 65,
   "metadata": {},
   "outputs": [
    {
     "data": {
      "image/png": "[encoded data removed]",
      "text/plain": [
       "<Figure size 1000x800 with 1 Axes>"
      ]
     },
     "metadata": {},
     "output_type": "display_data"
    }
   ],
   "source": [
    "# Clean and standardize the Make column to remove extra white spaces or different capitalization\n",
    "df['Make']= df['Make'].str.upper().str.strip()\n",
    "\n",
    "# Top 10 Aircraft makes by frequency\n",
    "top_makes = df['Make'].value_counts().head(10)\n",
    "\n",
    "#Plotting\n",
    "plt.figure(figsize= (10,8))\n",
    "sns.barplot(x= top_makes.values, y= top_makes.index, color=\"blue\")\n",
    "plt.title(\"Top 10 Aircraft Makes involved in accidents\")\n",
    "plt.xlabel(\"Number of Incidences\")\n",
    "plt.ylabel(\"Aircraft Make\")\n",
    "plt.tight_layout()\n",
    "plt.show();"
   ]
  },
  {
   "cell_type": "markdown",
   "metadata": {},
   "source": [
    "This chart displays the top 10 Aircraft manufactures most frequently involved in reported incidents. Cessna has the most leading incidences of over 20000 incidences while Piper, Bell, Boeing, Grumman and  Mooney manufactures have less than 5000 reported incidences. The Make column was standardized by converting all values to uppercase and removing leading/trailing whitespace. This ensures that different variations of the same manufacturer (like \"Cessna\", \"CESSNA\", or \"CESSNA \") are treated consistently, avoiding duplicate entries in the analysis. \n",
    "\n",
    "Cessna consistently emerges as the aircraft make with the highest reported incidents."
   ]
  },
  {
   "cell_type": "markdown",
   "metadata": {},
   "source": [
    "## Most Frequently Involved Aircraft Models"
   ]
  },
  {
   "cell_type": "code",
   "execution_count": 107,
   "metadata": {},
   "outputs": [
    {
     "data": {
      "image/png": "[encoded data removed]",
      "text/plain": [
       "<Figure size 1000x800 with 1 Axes>"
      ]
     },
     "metadata": {},
     "output_type": "display_data"
    }
   ],
   "source": [
    "#Top 10 Models involved in Accidents \n",
    "\n",
    "top_models = df['Model'].value_counts().head(10)\n",
    "\n",
    "#Plot graph for the top_models\n",
    "plt.figure(figsize=(10,8))\n",
    "sns.barplot(x= top_models.values, y=top_models.index, color=\"green\")\n",
    "plt.title(\"Top 10 Aircraft Models Involved in Accidents\")\n",
    "plt.xlabel(\"Number of incidents\")\n",
    "plt.ylabel(\"Aircraft Models\")\n",
    "plt.tight_layout()\n",
    "plt.show();"
   ]
  },
  {
   "cell_type": "markdown",
   "metadata": {},
   "source": [
    "This chart highlights the aircraft models with the highest number of recorded incidents. The Aircraft Model 152 leads with over 2,000 incidents, while the Model 150M has a significantly lower incident count of just over 500.\n",
    "\n",
    "This analysis gives us a clear picture of which specific aircraft models are most frequently involved in accidents. By identifying these models, we can focus on understanding the factors contributing to their high incident rates. For example, the higher number of incidents for Model 152 might be attributed to its widespread use or specific operational contexts, whereas Model 150M may require further analysis to determine why it has relatively fewer incidents."
   ]
  },
  {
   "cell_type": "markdown",
   "metadata": {},
   "source": [
    "### Analysis of Accident Severity \n",
    "\n",
    "With the most frequent aircraft makes and the top aircraft models involved in accidents identified, the next step is to analyze accident severity and correlate it with specific makes and models."
   ]
  },
  {
   "cell_type": "markdown",
   "metadata": {},
   "source": [
    "### 1. Assess Accident Severity:\n",
    "You can calculate severity metrics like the number of fatalities, serious injuries, and minor injuries.\n",
    "\n",
    "This will allow you to evaluate whether more frequent accidents correlate with more severe outcomes.\n",
    "\n",
    "Severity metrics could include:\n",
    "\n",
    "* Fatality Rate: Number of fatalities / Total number of accidents.\n",
    "\n",
    "* Injury Rate: Total injuries (fatal + serious + minor) / Total number of accidents.\n",
    "\n",
    "### 2. Group by Aircraft Make and Model:\n",
    "\n",
    "You can group by both aircraft make and model to calculate these severity metrics."
   ]
  },
  {
   "cell_type": "code",
   "execution_count": 118,
   "metadata": {},
   "outputs": [
    {
     "name": "stdout",
     "output_type": "stream",
     "text": [
      "                    Total.Fatal.Injuries  Total.Serious.Injuries  \\\n",
      "Make                                                               \n",
      "TUPOLEV                              509                       0   \n",
      "VIKING AIR LIMITED                    23                       0   \n",
      "AVIOCAR CASA                          18                       0   \n",
      "MIL                                   13                       0   \n",
      "MIL DESIGN BUREAU                     13                       0   \n",
      "ANTONOV                               71                       0   \n",
      "EMBRAER AIRCRAFT                      10                       0   \n",
      "AIRVAN                                 9                       0   \n",
      "M7AERO                                 8                       0   \n",
      "JETSTREAM                             23                       0   \n",
      "\n",
      "                    Total.Minor.Injuries  fatality_rate  injury_rate  \n",
      "Make                                                                  \n",
      "TUPOLEV                                0     127.250000   127.250000  \n",
      "VIKING AIR LIMITED                     0      23.000000    23.000000  \n",
      "AVIOCAR CASA                           0      18.000000    18.000000  \n",
      "MIL                                    0      13.000000    13.000000  \n",
      "MIL DESIGN BUREAU                      0      13.000000    13.000000  \n",
      "ANTONOV                                2      11.833333    12.166667  \n",
      "EMBRAER AIRCRAFT                       0      10.000000    10.000000  \n",
      "AIRVAN                                 0       9.000000     9.000000  \n",
      "M7AERO                                 1       8.000000     9.000000  \n",
      "JETSTREAM                              3       7.666667     8.666667  \n"
     ]
    }
   ],
   "source": [
    "#Severity metrics by Aircraft Make\n",
    "# Normalize the 'Make' column to ensure consistency (e.g., convert all names to uppercase)\n",
    "df['Make'] = df['Make'].str.upper()\n",
    "\n",
    "# Group by 'make' and sum up the injury-related fields\n",
    "severity_by_make = df.groupby('Make')[['Total.Fatal.Injuries', 'Total.Serious.Injuries', 'Total.Minor.Injuries']].sum()\n",
    "\n",
    "# Calculate fatality rate and injury rate\n",
    "accidents_by_make = df['Make'].value_counts()\n",
    "severity_by_make['fatality_rate'] = severity_by_make['Total.Fatal.Injuries'] / accidents_by_make\n",
    "severity_by_make['injury_rate'] = (severity_by_make['Total.Fatal.Injuries'] + severity_by_make['Total.Serious.Injuries'] + severity_by_make['Total.Minor.Injuries']) / accidents_by_make\n",
    "\n",
    "# Sort by fatality rate or injury rate\n",
    "severity_by_make_sorted = severity_by_make.sort_values(by='fatality_rate', ascending=False)\n",
    "\n",
    "# Display the top 10 aircraft makes by fatality rate\n",
    "print(severity_by_make_sorted.head(10))\n"
   ]
  },
  {
   "cell_type": "markdown",
   "metadata": {},
   "source": [
    "### Key Insights and Observations\n",
    "\n",
    "**Aircraft Makes with the Highest Fatality Rate:**\n",
    "\n",
    "* TUPOLEV has the highest fatality rate of 127.25 with 509 fatal injuries and no reported minor injuries. This suggests that accidents involving Tupolev aircraft are often fatal and do not typically involve non-fatal injuries. \n",
    "\n",
    "**Other Makes with Relatively High Fatality Rates are as follows:**\n",
    "\n",
    "* VIKING AIR LIMITED has a fatality rate of 23 with 23 fatal injuries. Despite this relatively high rate, it reports no serious or minor injuries, indicating that accidents involving this make tend to result in fatalities but fewer other types of injuries.\n",
    "\n",
    "* AVIOCAR CASA and MIL, each with 18 and 13 fatal injuries respectively, have fatality rates of 18 and 13, showing that accidents involving these aircraft tend to be fatal.\n",
    "\n",
    "Makes like EMBRAER AIRCRAFT, AIRVAN, M7AERO, and JETSTREAM have lower fatality rates, suggesting that accidents with these aircraft are less likely to result in fatalities and may involve fewer injuries overall. ANTONOV has a small number of minor injuries, indicating that its accidents might have a more varied severity, though fatalities remain high.\n",
    "\n",
    "**Conclusion:**\n",
    "\n",
    "This dataset indicates that some aircraft makes, especially TUPOLEV, tend to be involved in accidents with very high fatality rates, while others have comparatively lower fatality rates but still report fatalities. The presence of minor injuries in a few cases (like ANTONOV and M7AERO) shows that not all accidents are as severe as those involving TUPOLEV."
   ]
  },
  {
   "cell_type": "code",
   "execution_count": 125,
   "metadata": {},
   "outputs": [
    {
     "name": "stdout",
     "output_type": "stream",
     "text": [
      "               Total.Fatal.Injuries  Total.Serious.Injuries  \\\n",
      "Model                                                         \n",
      "747-168                         349                       0   \n",
      "TU-154                          349                       0   \n",
      "767-366-ER                      217                       0   \n",
      "777 - 206                       534                       0   \n",
      "A 310                           169                       0   \n",
      "A320 - 216                      162                       0   \n",
      "E135 Legacy                     154                       0   \n",
      "A310-300                        124                      59   \n",
      "-737-222                        123                       0   \n",
      "CitationJet 2                   118                       0   \n",
      "\n",
      "               Total.Minor.Injuries  fatality_rate  injury_rate  \n",
      "Model                                                            \n",
      "747-168                           0          349.0        349.0  \n",
      "TU-154                            0          349.0        349.0  \n",
      "767-366-ER                        0          217.0        217.0  \n",
      "777 - 206                         0          178.0        178.0  \n",
      "A 310                            10          169.0        179.0  \n",
      "A320 - 216                        0          162.0        162.0  \n",
      "E135 Legacy                       0          154.0        154.0  \n",
      "A310-300                          0          124.0        183.0  \n",
      "-737-222                          0          123.0        123.0  \n",
      "CitationJet 2                     0          118.0        118.0  \n"
     ]
    }
   ],
   "source": [
    "# Severity Metrics by Aircraft Model \n",
    "# Group by 'model' and sum up the injury-related fields\n",
    "severity_by_model = df.groupby('Model')[['Total.Fatal.Injuries', 'Total.Serious.Injuries', 'Total.Minor.Injuries']].sum()\n",
    "\n",
    "# Calculate fatality rate and injury rate by model\n",
    "accidents_by_model = df['Model'].value_counts()\n",
    "severity_by_model['fatality_rate'] = severity_by_model['Total.Fatal.Injuries'] / accidents_by_model\n",
    "severity_by_model['injury_rate'] = (severity_by_model['Total.Fatal.Injuries'] + severity_by_model['Total.Serious.Injuries'] + severity_by_model['Total.Minor.Injuries']) / accidents_by_model\n",
    "\n",
    "# Sort by fatality rate or injury rate\n",
    "severity_by_model_sorted = severity_by_model.sort_values(by='fatality_rate', ascending=False)\n",
    "\n",
    "# Display the top 10 aircraft models by fatality rate\n",
    "print(severity_by_model_sorted.head(10))"
   ]
  },
  {
   "cell_type": "markdown",
   "metadata": {},
   "source": [
    "### Key Insights and Observations \n",
    "\n",
    "**Aircraft Models with the Highest Fatality Rates:**\n",
    "\n",
    "* 747-168 and TU-154 both have the highest fatality rates of 349.0, with 349 fatal injuries. These models have no reported minor injuries, indicating that accidents involving these models tend to result in fatalities without lesser injuries.\n",
    "\n",
    "* 777 - 206 also has a high fatality rate of 178.0, with 534 fatal injuries, but fewer fatalities compared to the 747-168 and TU-154 (despite having the highest number of fatal injuries). This suggests that accidents with the 777 - 206 are still highly fatal but might involve more cases where the fatalities are more frequent but not as severe in the average incident.\n",
    "\n",
    "**Other Models with High Fatality Rates:**\n",
    "\n",
    "* 767-366-ER has a fatality rate of 217.0, with 217 fatal injuries. It is also a model associated with a relatively high number of fatal accidents.\n",
    "\n",
    "* A320 - 216 has 162 fatal injuries and a fatality rate of 162.0, showing that accidents involving this model tend to result in fatalities, but the fatality rate is not as high as some other models like the 747-168 or TU-154.\n",
    "\n",
    "* A310 has 169 fatal injuries and a fatality rate of 169.0, indicating a relatively high number of fatalities compared to other aircraft.\n",
    "\n",
    "**Aircraft Models with Lower Fatality Rates:**\n",
    "\n",
    "* CitationJet 2 has 118 fatal injuries and a fatality rate of 118.0, which is still significant, but lower compared to other aircraft in the dataset.\n",
    "\n",
    "* A310-300 has 124 fatal injuries, but it shows a relatively higher injury rate (183.0) due to the 59 serious injuries reported, making this model unique in having both a higher number of serious injuries and fatalities compared to other models. This suggests that accidents with A310-300 tend to result in more severe injuries, in addition to fatalities.\n",
    "\n",
    "**Minor Injuries:**\n",
    "\n",
    "A310 is the only model with 10 minor injuries reported, while the rest of the models have no reported minor injuries. This indicates that accidents involving A310 may involve a mix of serious or fatal outcomes as well as minor injuries.\n",
    "\n",
    "**Conclusion:**\n",
    "\n",
    "This dataset shows that many of the aircraft models, particularly 747-168, TU-154, 767-366-ER, and 777 - 206, are involved in accidents with high fatality rates, and they often result in fatalities with very few minor injuries. However, A310-300 stands out for having a higher injury rate due to the presence of serious injuries, indicating that its accidents may be more severe on average. CitationJet 2 and A320 - 216 have relatively lower fatality rates, suggesting fewer fatalities in accidents involving these models."
   ]
  },
  {
   "cell_type": "markdown",
   "metadata": {},
   "source": [
    "# Visualizing the severity\n",
    "\n",
    "Visualize the severity of accidents for the top 10 aircraft makes and models, ranked by fatality and injury rates."
   ]
  },
  {
   "cell_type": "code",
   "execution_count": null,
   "metadata": {},
   "outputs": [],
   "source": []
  },
  {
   "cell_type": "markdown",
   "metadata": {},
   "source": [
    "## Trends in Accidents over time"
   ]
  },
  {
   "cell_type": "code",
   "execution_count": 107,
   "metadata": {},
   "outputs": [
    {
     "data": {
      "image/png": "[encoded data removed]",
      "text/plain": [
       "<Figure size 1200x600 with 1 Axes>"
      ]
     },
     "metadata": {},
     "output_type": "display_data"
    }
   ],
   "source": [
    "# Parse dates and extract year\n",
    "df['Event.Date'] = pd.to_datetime(df['Event.Date'], errors='coerce')\n",
    "df['Year'] = df['Event.Date'].dt.year\n",
    "\n",
    "# Count accidents per year\n",
    "accidents_per_year = df['Year'].value_counts().sort_index()\n",
    "\n",
    "plt.figure(figsize=(12,6))\n",
    "sns.lineplot(x=accidents_per_year.index, y=accidents_per_year.values)\n",
    "plt.title(\"Aviation Accidents Over Time\")\n",
    "plt.xlabel(\"Year\")\n",
    "plt.ylabel(\"Number of Accidents\")\n",
    "plt.tight_layout()\n",
    "plt.show()\n"
   ]
  },
  {
   "cell_type": "markdown",
   "metadata": {},
   "source": [
    "The analyzing of accident trends over time shows whether the number of accidents have improved. The chart shows that their is a decline as the year progresses in the number of accidents."
   ]
  },
  {
   "cell_type": "code",
   "execution_count": null,
   "metadata": {},
   "outputs": [],
   "source": []
  }
 ],
 "metadata": {
  "kernelspec": {
   "display_name": "Python (learn-env)",
   "language": "python",
   "name": "learn-env"
  },
  "language_info": {
   "codemirror_mode": {
    "name": "ipython",
    "version": 3
   },
   "file_extension": ".py",
   "mimetype": "text/x-python",
   "name": "python",
   "nbconvert_exporter": "python",
   "pygments_lexer": "ipython3",
   "version": "3.8.20"
  }
 },
 "nbformat": 4,
 "nbformat_minor": 4
}
