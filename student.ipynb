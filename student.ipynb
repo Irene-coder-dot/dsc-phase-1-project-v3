{
 "cells": [
  {
   "cell_type": "markdown",
   "metadata": {},
   "source": [
    "## Final Project Submission\n",
    "\n",
    "Please fill out:\n",
    "* Student name: Irene Ngina Kibengo\n",
    "* Student pace: self paced / part time / full time\n",
    "* Scheduled project review date/time: \n",
    "* Instructor name: Mwikali\n",
    "* Blog post URL:\n"
   ]
  },
  {
   "cell_type": "markdown",
   "metadata": {},
   "source": [
    "# Identifying Low-Risk Aircraft Models For New Aviation Ventures\n",
    "\n",
    "\n",
    "# Business Understanding\n",
    "The aviation industry is inherently high-risk, making safety a crucial consideration when selecting aircraft for a new business venture. This project aims to support aviation entrepreneurs and startups by providing a data-driven analysis of historical accident data to identify aircraft types associated with lower safety risks. By leveraging these insights, stakeholders can make more informed decisions regarding fleet selection, ultimately enhancing operational safety and reducing potential liabilities. By uncovering patterns in past accidents, the project provides actionable insights to guide safe and strategic fleet choices.\n",
    "\n",
    "## Stakeholders\n",
    "\n",
    "The primary stakeholder for this project is the head of aviation  division, who is responsible for overseeing fleet decisions, operational safety, and long-term strategic planning. This project provides data-driven insights that support informed decision-making around aircraft selection, helping minimize operational risk and ensure compliance with safety standards. By identifying aircraft models with lower historical accident rates, the project aims to enhance fleet safety while reducing the financial and reputational risks associated with high-risk aircraft.\n",
    "\n",
    "## Conclusion: Implications\n",
    "This project highlights how historical aviation accident data can be leveraged to generate actionable insights that inform aviation business strategy. By identifying aircraft models associated with lower incident rates, the analysis supports more informed and safety-conscious fleet selection. These insights not only enhance passenger safety but also promote long-term financial sustainability by helping aviation startups avoid high-risk investments.\n"
   ]
  },
  {
   "cell_type": "markdown",
   "metadata": {},
   "source": [
    "# Data Understanding\n",
    "\n"
   ]
  }
 ],
 "metadata": {
  "kernelspec": {
   "display_name": "Python (learn-env)",
   "language": "python",
   "name": "learn-env"
  },
  "language_info": {
   "codemirror_mode": {
    "name": "ipython",
    "version": 3
   },
   "file_extension": ".py",
   "mimetype": "text/x-python",
   "name": "python",
   "nbconvert_exporter": "python",
   "pygments_lexer": "ipython3",
   "version": "3.8.20"
  }
 },
 "nbformat": 4,
 "nbformat_minor": 4
}
